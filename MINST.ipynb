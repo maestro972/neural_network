{
 "cells": [
  {
   "cell_type": "code",
   "execution_count": 1,
   "metadata": {
    "collapsed": true
   },
   "outputs": [],
   "source": [
    "import numpy as np\n",
    "import os\n",
    "import struct"
   ]
  },
  {
   "cell_type": "code",
   "execution_count": 2,
   "metadata": {
    "collapsed": false
   },
   "outputs": [],
   "source": [
    "def load_mnist(path, kind):\n",
    "    labels_path = os.path.join(path, '%s-labels.idx1-ubyte' %kind)\n",
    "    images_path = os.path.join(path,'%s-images.idx3-ubyte' %kind)\n",
    "   \n",
    "    with open(labels_path, 'rb') as lb_path:\n",
    "        magic, n = struct.unpack('>II', lb_path.read(8))\n",
    "        labels = np.fromfile(lb_path, dtype=np.uint8)\n",
    "    \n",
    "    with open(images_path, 'rb') as images_path:\n",
    "        magic, num, rows, cols = struct.unpack(\">IIII\", images_path.read(16))\n",
    "        images = np.fromfile(images_path, dtype=np.uint8).reshape(len(labels), 784)\n",
    "    return images, labels"
   ]
  },
  {
   "cell_type": "code",
   "execution_count": 3,
   "metadata": {
    "collapsed": false
   },
   "outputs": [],
   "source": [
    "X_train, y_train = load_mnist('.\\data', 'train')"
   ]
  },
  {
   "cell_type": "code",
   "execution_count": 4,
   "metadata": {
    "collapsed": false
   },
   "outputs": [],
   "source": [
    "X_test, y_test = load_mnist('.\\data', 't10k')"
   ]
  },
  {
   "cell_type": "code",
   "execution_count": 5,
   "metadata": {
    "collapsed": false
   },
   "outputs": [
    {
     "data": {
      "text/plain": [
       "(60000, 784)"
      ]
     },
     "execution_count": 5,
     "metadata": {},
     "output_type": "execute_result"
    }
   ],
   "source": [
    "X_train.shape"
   ]
  },
  {
   "cell_type": "code",
   "execution_count": 6,
   "metadata": {
    "collapsed": true
   },
   "outputs": [],
   "source": [
    "import matplotlib.pyplot as plt\n",
    "%matplotlib inline"
   ]
  },
  {
   "cell_type": "code",
   "execution_count": 7,
   "metadata": {
    "collapsed": false
   },
   "outputs": [
    {
     "data": {
      "image/png": "[encoded data removed]",
      "text/plain": [
       "<matplotlib.figure.Figure at 0x1dd3e5a3c18>"
      ]
     },
     "metadata": {},
     "output_type": "display_data"
    }
   ],
   "source": [
    "fig, ax = plt.subplots(nrows=2, ncols=5,sharex=True, sharey=True)\n",
    "ax = ax.flatten()\n",
    "for i in range(10):\n",
    "    img = X_train[y_train == i][0].reshape(28, 28)\n",
    "    ax[i].imshow(img, cmap='Greys', interpolation= 'nearest')\n",
    "    ax[0].set_xticks([])\n",
    "    ax[0].set_yticks([])\n",
    "    plt.tight_layout()"
   ]
  },
  {
   "cell_type": "code",
   "execution_count": 8,
   "metadata": {
    "collapsed": true
   },
   "outputs": [],
   "source": [
    "from scipy.special import expit\n",
    "import sys"
   ]
  },
  {
   "cell_type": "code",
   "execution_count": 47,
   "metadata": {
    "collapsed": false
   },
   "outputs": [],
   "source": [
    "class MLP(object):\n",
    "    def __init__(self, n_output, n_features, n_hidden=30, L1=0.0, L2=0.0, epochs=500, eta=0.0001, alpha=0.0, \\\n",
    "                 decrease_const=0.0, shuffle=True, minibatches=1, random_state=1):\n",
    "        self.n_output = n_output\n",
    "        self.n_features = n_features\n",
    "        self.n_hidden = n_hidden\n",
    "        self.L1 = L1\n",
    "        self.L2 = L2\n",
    "        self.epochs = epochs\n",
    "        self.eta = eta\n",
    "        self.alpha = alpha\n",
    "        self.decrease_const = decrease_const\n",
    "        self.shuffle = shuffle\n",
    "        self.minibatches = minibatches\n",
    "        self.W1, self.W2 = self.__initialize_weights()\n",
    "        \n",
    "    def __initialize_weights(self):\n",
    "        W1 = np.random.uniform(low=-1, high=1, size=self.n_hidden * (self.n_features + 1))\n",
    "        W1 = W1.reshape((self.n_hidden, self.n_features + 1))\n",
    "        \n",
    "        W2 = np.random.uniform(low=-1, high=1, size=self.n_output * (self.n_hidden + 1))\n",
    "        W2 = W2.reshape((self.n_output, self.n_hidden + 1))\n",
    "        \n",
    "        return W1, W2\n",
    "    \n",
    "    def __sigmoid(self, z):\n",
    "        return 1/(1+np.exp(-z))\n",
    "    \n",
    "    def __sigmoid_gradient(self, z):\n",
    "        sg = self.__sigmoid(z)\n",
    "        return sg * (1-sg)\n",
    "    \n",
    "    def __feedforward(self, X, W1, W2):\n",
    "        N = np.ones((X.shape[0], X.shape[1]+1),dtype=np.int8)\n",
    "        N[:,1:] = X\n",
    "        A1 = N #(n,k')\n",
    "        \n",
    "        Z2 = W1.dot(A1.T)\n",
    "        A2 = self.__sigmoid(Z2)#(h,n)\n",
    "        \n",
    "        N = np.ones((A2.shape[0]+1, A2.shape[1]),dtype=np.int8)\n",
    "        N[:-1,:]=A2\n",
    "        A2 = N #(h',n)\n",
    "        \n",
    "        Z3 = W2.dot(A2)\n",
    "        A3 = self.__sigmoid(Z3)#(o,n)\n",
    "        \n",
    "        return Z2, Z3, A1, A2, A3\n",
    "    \n",
    "    \n",
    "    def __l1(self, l1, W1, W2):\n",
    "        return l1 * (np.sum(np.abs(W1[:,1:])) + np.sum(np.abs(W2[:,1:])))\n",
    "    \n",
    "    def __l2(self, l2, W1, W2):\n",
    "        return l2 * (np.sum(np.power(W1[:,1:],2)) + np.sum(np.power(W2[:,1:],2)))\n",
    "    \n",
    "    def __getcost(self, encoding, output, W1, W2):\n",
    "        cost = -encoding.dot(np.log(output)) - (1-encoding).dot(np.log(output))\n",
    "        l1 = self.__l1(self.l1, W1, W2)\n",
    "        l2 = self.__l2(self.l2, W1, W2)\n",
    "        return cost + l1 + l2\n",
    "    \n",
    "    def __back_propagate(self, encoding, A3, A2, A1, Z2, Z3, W1, W2):\n",
    "        #W1(h,k') and W2(o,h')\n",
    "        #A1(n,k')\n",
    "        #Z2(h,n) and A2(h',n)\n",
    "        #Z3(o,n) and A3(o,n) and encoding(o,n)\n",
    "        \n",
    "        N = np.ones((Z3.shape[0] + 1, Z3.shape[0]), dtype=np.int8)\n",
    "        N[:-1,:] = Z3\n",
    "        Z3 = N\n",
    "        \n",
    "        delta3 = (A3 - encoding) * self.__sigmoid_gradient(Z3) #(o,n)\n",
    "        grad3 = delta3.dot(A2.T) #(o,h')\n",
    "        \n",
    "        N = np.ones((Z2.shape[0] + 1, Z2.shape[0]), dtype=np.int8)\n",
    "        N[:-1,:] = Z2\n",
    "        Z2 = N #(h',n)\n",
    "        \n",
    "        delta2 = W2.T.dot(delta3) * self.__sigmoid_gradient(Z2) #(h',n)\n",
    "        grad2 = delta2.dot(A1) #(h',k')  \n",
    "        \n",
    "        grad2[:, 1:] += W1[:, 1:] *(self.l1 + self.l2)\n",
    "        grad3[:, 1:] += W2[:, 1:] *(self.l1 + self.l2)\n",
    "        \n",
    "        return grad2, grad3\n",
    "    \n",
    "    def __predict(self, X):\n",
    "        A1, Z2, A2, Z3, A3 = self.__feedforward(X, self.W1, self.W2)\n",
    "        y_pred = np.argmax(Z3, axis=0)\n",
    "        return y_pred\n",
    "    \n",
    "    def __encode(self, y):\n",
    "        y_encoded = np.zeros((self.n_output, y.shape[0]))\n",
    "        for i,v in enumerate(y):\n",
    "            y_encoded[v, i] = 1\n",
    "        return y_encoded #(o,n)\n",
    "    \n",
    "    def __fit(self, X, y, print_progress=False):\n",
    "        self.cost = []\n",
    "        X_data, y_data = X.copy(), y.copy()\n",
    "        y_enc = self.__encode(y_data)\n",
    "        \n",
    "        delta_W1_prev = np.zeros(self.W1.shape)\n",
    "        delta_W2_prev = np.zeros(self.W2.shape)\n",
    "        \n",
    "        for i in range(self.epochs):\n",
    "            self.eta /= (1 + self.decrease_const * i)\n",
    "            \n",
    "            sys.stderr.write('\\rEpoch: %d/%d' % (i+1, self.epochs))\n",
    "            sys.stderr.flush()\n",
    "            \n",
    "            if self.shuffle:\n",
    "                idx = np.random.permutation(y_data.shape[0])\n",
    "                X_data, y_data = X_data[idx], y[:,idx]\n",
    "            \n",
    "            for idx in self.minibatches:\n",
    "                A1, Z2, A2, Z3, A3 = self.__predict(X_data[])\n",
    "                \n",
    "            "
   ]
  },
  {
   "cell_type": "markdown",
   "metadata": {},
   "source": [
    "## Why we take Z3 instead of A3 in predict method ?"
   ]
  },
  {
   "cell_type": "code",
   "execution_count": 10,
   "metadata": {
    "collapsed": true
   },
   "outputs": [],
   "source": [
    "import matplotlib.pyplot as plt\n",
    "%matplotlib inline"
   ]
  },
  {
   "cell_type": "code",
   "execution_count": 11,
   "metadata": {
    "collapsed": false
   },
   "outputs": [
    {
     "data": {
      "text/plain": [
       "[<matplotlib.lines.Line2D at 0x1dd426e5438>]"
      ]
     },
     "execution_count": 11,
     "metadata": {},
     "output_type": "execute_result"
    },
    {
     "data": {
      "image/png": "[encoded data removed]",
      "text/plain": [
       "<matplotlib.figure.Figure at 0x1dd3e7862b0>"
      ]
     },
     "metadata": {},
     "output_type": "display_data"
    }
   ],
   "source": [
    "x = np.arange(0,100)\n",
    "y = 1 / (1+ np.exp(-x))\n",
    "plt.plot(x,y)"
   ]
  },
  {
   "cell_type": "code",
   "execution_count": 12,
   "metadata": {
    "collapsed": false
   },
   "outputs": [
    {
     "data": {
      "text/plain": [
       "array([ 0.5       ,  0.73105858,  0.88079708,  0.95257413,  0.98201379,\n",
       "        0.99330715,  0.99752738,  0.99908895,  0.99966465,  0.99987661,\n",
       "        0.9999546 ,  0.9999833 ,  0.99999386,  0.99999774,  0.99999917,\n",
       "        0.99999969,  0.99999989,  0.99999996,  0.99999998,  0.99999999,\n",
       "        1.        ,  1.        ,  1.        ,  1.        ,  1.        ,\n",
       "        1.        ,  1.        ,  1.        ,  1.        ,  1.        ,\n",
       "        1.        ,  1.        ,  1.        ,  1.        ,  1.        ,\n",
       "        1.        ,  1.        ,  1.        ,  1.        ,  1.        ,\n",
       "        1.        ,  1.        ,  1.        ,  1.        ,  1.        ,\n",
       "        1.        ,  1.        ,  1.        ,  1.        ,  1.        ,\n",
       "        1.        ,  1.        ,  1.        ,  1.        ,  1.        ,\n",
       "        1.        ,  1.        ,  1.        ,  1.        ,  1.        ,\n",
       "        1.        ,  1.        ,  1.        ,  1.        ,  1.        ,\n",
       "        1.        ,  1.        ,  1.        ,  1.        ,  1.        ,\n",
       "        1.        ,  1.        ,  1.        ,  1.        ,  1.        ,\n",
       "        1.        ,  1.        ,  1.        ,  1.        ,  1.        ,\n",
       "        1.        ,  1.        ,  1.        ,  1.        ,  1.        ,\n",
       "        1.        ,  1.        ,  1.        ,  1.        ,  1.        ,\n",
       "        1.        ,  1.        ,  1.        ,  1.        ,  1.        ,\n",
       "        1.        ,  1.        ,  1.        ,  1.        ,  1.        ])"
      ]
     },
     "execution_count": 12,
     "metadata": {},
     "output_type": "execute_result"
    }
   ],
   "source": [
    "y"
   ]
  },
  {
   "cell_type": "code",
   "execution_count": 13,
   "metadata": {
    "collapsed": false
   },
   "outputs": [
    {
     "data": {
      "text/plain": [
       "array([5, 0, 4, ..., 5, 6, 8], dtype=uint8)"
      ]
     },
     "execution_count": 13,
     "metadata": {},
     "output_type": "execute_result"
    }
   ],
   "source": [
    "y_train"
   ]
  },
  {
   "cell_type": "code",
   "execution_count": 14,
   "metadata": {
    "collapsed": false
   },
   "outputs": [
    {
     "data": {
      "text/plain": [
       "(60000, 784)"
      ]
     },
     "execution_count": 14,
     "metadata": {},
     "output_type": "execute_result"
    }
   ],
   "source": [
    "X_train.shape"
   ]
  },
  {
   "cell_type": "code",
   "execution_count": 17,
   "metadata": {
    "collapsed": false
   },
   "outputs": [
    {
     "data": {
      "text/plain": [
       "1200"
      ]
     },
     "execution_count": 17,
     "metadata": {},
     "output_type": "execute_result"
    }
   ],
   "source": [
    "len(np.array_split(range(y_train.shape[0]),50)[0])"
   ]
  },
  {
   "cell_type": "code",
   "execution_count": 18,
   "metadata": {
    "collapsed": false
   },
   "outputs": [
    {
     "data": {
      "text/plain": [
       "60000"
      ]
     },
     "execution_count": 18,
     "metadata": {},
     "output_type": "execute_result"
    }
   ],
   "source": [
    "1200 *50"
   ]
  },
  {
   "cell_type": "code",
   "execution_count": 20,
   "metadata": {
    "collapsed": false
   },
   "outputs": [
    {
     "data": {
      "text/plain": [
       "[array([0, 1, 2, 3, 4, 5, 6, 7, 8, 9]),\n",
       " array([10, 11, 12, 13, 14, 15, 16, 17, 18, 19]),\n",
       " array([20, 21, 22, 23, 24, 25, 26, 27, 28, 29]),\n",
       " array([30, 31, 32, 33, 34, 35, 36, 37, 38, 39]),\n",
       " array([40, 41, 42, 43, 44, 45, 46, 47, 48, 49]),\n",
       " array([50, 51, 52, 53, 54, 55, 56, 57, 58, 59]),\n",
       " array([60, 61, 62, 63, 64, 65, 66, 67, 68, 69]),\n",
       " array([70, 71, 72, 73, 74, 75, 76, 77, 78, 79]),\n",
       " array([80, 81, 82, 83, 84, 85, 86, 87, 88, 89]),\n",
       " array([90, 91, 92, 93, 94, 95, 96, 97, 98, 99])]"
      ]
     },
     "execution_count": 20,
     "metadata": {},
     "output_type": "execute_result"
    }
   ],
   "source": [
    "np.array_split(range(100),10)"
   ]
  },
  {
   "cell_type": "code",
   "execution_count": 25,
   "metadata": {
    "collapsed": false
   },
   "outputs": [
    {
     "data": {
      "text/plain": [
       "array([4, 6, 1, 5, 8])"
      ]
     },
     "execution_count": 25,
     "metadata": {},
     "output_type": "execute_result"
    }
   ],
   "source": [
    "np.random.permutation([1,5,6,4,8])"
   ]
  },
  {
   "cell_type": "code",
   "execution_count": null,
   "metadata": {
    "collapsed": true
   },
   "outputs": [],
   "source": []
  },
  {
   "cell_type": "code",
   "execution_count": null,
   "metadata": {
    "collapsed": true
   },
   "outputs": [],
   "source": []
  },
  {
   "cell_type": "code",
   "execution_count": null,
   "metadata": {
    "collapsed": true
   },
   "outputs": [],
   "source": []
  },
  {
   "cell_type": "code",
   "execution_count": 30,
   "metadata": {
    "collapsed": false
   },
   "outputs": [
    {
     "data": {
      "text/plain": [
       "array([49412,  8537,  3923, ..., 45392, 58900, 30083])"
      ]
     },
     "execution_count": 30,
     "metadata": {},
     "output_type": "execute_result"
    }
   ],
   "source": [
    "np.random.permutation(y_train.shape[0])"
   ]
  },
  {
   "cell_type": "code",
   "execution_count": 35,
   "metadata": {
    "collapsed": false
   },
   "outputs": [
    {
     "data": {
      "text/plain": [
       "[array([   0,    1,    2, ..., 1197, 1198, 1199]),\n",
       " array([1200, 1201, 1202, ..., 2397, 2398, 2399]),\n",
       " array([2400, 2401, 2402, ..., 3597, 3598, 3599]),\n",
       " array([3600, 3601, 3602, ..., 4797, 4798, 4799]),\n",
       " array([4800, 4801, 4802, ..., 5997, 5998, 5999]),\n",
       " array([6000, 6001, 6002, ..., 7197, 7198, 7199]),\n",
       " array([7200, 7201, 7202, ..., 8397, 8398, 8399]),\n",
       " array([8400, 8401, 8402, ..., 9597, 9598, 9599]),\n",
       " array([ 9600,  9601,  9602, ..., 10797, 10798, 10799]),\n",
       " array([10800, 10801, 10802, ..., 11997, 11998, 11999]),\n",
       " array([12000, 12001, 12002, ..., 13197, 13198, 13199]),\n",
       " array([13200, 13201, 13202, ..., 14397, 14398, 14399]),\n",
       " array([14400, 14401, 14402, ..., 15597, 15598, 15599]),\n",
       " array([15600, 15601, 15602, ..., 16797, 16798, 16799]),\n",
       " array([16800, 16801, 16802, ..., 17997, 17998, 17999]),\n",
       " array([18000, 18001, 18002, ..., 19197, 19198, 19199]),\n",
       " array([19200, 19201, 19202, ..., 20397, 20398, 20399]),\n",
       " array([20400, 20401, 20402, ..., 21597, 21598, 21599]),\n",
       " array([21600, 21601, 21602, ..., 22797, 22798, 22799]),\n",
       " array([22800, 22801, 22802, ..., 23997, 23998, 23999]),\n",
       " array([24000, 24001, 24002, ..., 25197, 25198, 25199]),\n",
       " array([25200, 25201, 25202, ..., 26397, 26398, 26399]),\n",
       " array([26400, 26401, 26402, ..., 27597, 27598, 27599]),\n",
       " array([27600, 27601, 27602, ..., 28797, 28798, 28799]),\n",
       " array([28800, 28801, 28802, ..., 29997, 29998, 29999]),\n",
       " array([30000, 30001, 30002, ..., 31197, 31198, 31199]),\n",
       " array([31200, 31201, 31202, ..., 32397, 32398, 32399]),\n",
       " array([32400, 32401, 32402, ..., 33597, 33598, 33599]),\n",
       " array([33600, 33601, 33602, ..., 34797, 34798, 34799]),\n",
       " array([34800, 34801, 34802, ..., 35997, 35998, 35999]),\n",
       " array([36000, 36001, 36002, ..., 37197, 37198, 37199]),\n",
       " array([37200, 37201, 37202, ..., 38397, 38398, 38399]),\n",
       " array([38400, 38401, 38402, ..., 39597, 39598, 39599]),\n",
       " array([39600, 39601, 39602, ..., 40797, 40798, 40799]),\n",
       " array([40800, 40801, 40802, ..., 41997, 41998, 41999]),\n",
       " array([42000, 42001, 42002, ..., 43197, 43198, 43199]),\n",
       " array([43200, 43201, 43202, ..., 44397, 44398, 44399]),\n",
       " array([44400, 44401, 44402, ..., 45597, 45598, 45599]),\n",
       " array([45600, 45601, 45602, ..., 46797, 46798, 46799]),\n",
       " array([46800, 46801, 46802, ..., 47997, 47998, 47999]),\n",
       " array([48000, 48001, 48002, ..., 49197, 49198, 49199]),\n",
       " array([49200, 49201, 49202, ..., 50397, 50398, 50399]),\n",
       " array([50400, 50401, 50402, ..., 51597, 51598, 51599]),\n",
       " array([51600, 51601, 51602, ..., 52797, 52798, 52799]),\n",
       " array([52800, 52801, 52802, ..., 53997, 53998, 53999]),\n",
       " array([54000, 54001, 54002, ..., 55197, 55198, 55199]),\n",
       " array([55200, 55201, 55202, ..., 56397, 56398, 56399]),\n",
       " array([56400, 56401, 56402, ..., 57597, 57598, 57599]),\n",
       " array([57600, 57601, 57602, ..., 58797, 58798, 58799]),\n",
       " array([58800, 58801, 58802, ..., 59997, 59998, 59999])]"
      ]
     },
     "execution_count": 35,
     "metadata": {},
     "output_type": "execute_result"
    }
   ],
   "source": [
    "mini = np.array_split(range(y_train.shape[0]), 50)\n",
    "mini"
   ]
  },
  {
   "cell_type": "code",
   "execution_count": 37,
   "metadata": {
    "collapsed": false
   },
   "outputs": [
    {
     "name": "stderr",
     "output_type": "stream",
     "text": [
      "HEELLO"
     ]
    }
   ],
   "source": [
    "sys.stderr.write(\"HEELLO\")\n",
    "sys.stderr.flush()"
   ]
  },
  {
   "cell_type": "code",
   "execution_count": 42,
   "metadata": {
    "collapsed": false
   },
   "outputs": [],
   "source": [
    "v = np.array([[2,5,3],[7,8,4],[4,3,5],[4,7,8],[7,7,7],[3,4,7],[8,8,8]])"
   ]
  },
  {
   "cell_type": "code",
   "execution_count": 44,
   "metadata": {
    "collapsed": false
   },
   "outputs": [
    {
     "data": {
      "text/plain": [
       "array([2, 1, 3, 4, 6, 0, 5])"
      ]
     },
     "execution_count": 44,
     "metadata": {},
     "output_type": "execute_result"
    }
   ],
   "source": [
    "idx = np.random.permutation(v.shape[0])\n",
    "idx"
   ]
  },
  {
   "cell_type": "code",
   "execution_count": 45,
   "metadata": {
    "collapsed": false
   },
   "outputs": [
    {
     "data": {
      "text/plain": [
       "array([[4, 3, 5],\n",
       "       [7, 8, 4],\n",
       "       [4, 7, 8],\n",
       "       [7, 7, 7],\n",
       "       [8, 8, 8],\n",
       "       [2, 5, 3],\n",
       "       [3, 4, 7]])"
      ]
     },
     "execution_count": 45,
     "metadata": {},
     "output_type": "execute_result"
    }
   ],
   "source": [
    "v[idx]"
   ]
  },
  {
   "cell_type": "code",
   "execution_count": null,
   "metadata": {
    "collapsed": true
   },
   "outputs": [],
   "source": []
  }
 ],
 "metadata": {
  "anaconda-cloud": {},
  "kernelspec": {
   "display_name": "Python [conda root]",
   "language": "python",
   "name": "conda-root-py"
  },
  "language_info": {
   "codemirror_mode": {
    "name": "ipython",
    "version": 3
   },
   "file_extension": ".py",
   "mimetype": "text/x-python",
   "name": "python",
   "nbconvert_exporter": "python",
   "pygments_lexer": "ipython3",
   "version": "3.5.2"
  }
 },
 "nbformat": 4,
 "nbformat_minor": 1
}
