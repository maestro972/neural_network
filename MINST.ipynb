{
 "cells": [
  {
   "cell_type": "code",
   "execution_count": 1,
   "metadata": {
    "collapsed": true
   },
   "outputs": [],
   "source": [
    "import numpy as np\n",
    "import os\n",
    "import struct"
   ]
  },
  {
   "cell_type": "code",
   "execution_count": 2,
   "metadata": {
    "collapsed": false
   },
   "outputs": [],
   "source": [
    "def load_mnist(path, kind):\n",
    "    labels_path = os.path.join(path, '%s-labels.idx1-ubyte' %kind)\n",
    "    images_path = os.path.join(path,'%s-images.idx3-ubyte' %kind)\n",
    "   \n",
    "    with open(labels_path, 'rb') as lb_path:\n",
    "        magic, n = struct.unpack('>II', lb_path.read(8))\n",
    "        labels = np.fromfile(lb_path, dtype=np.uint8)\n",
    "    \n",
    "    with open(images_path, 'rb') as images_path:\n",
    "        magic, num, rows, cols = struct.unpack(\">IIII\", images_path.read(16))\n",
    "        images = np.fromfile(images_path, dtype=np.uint8).reshape(len(labels), 784)\n",
    "    return images, labels"
   ]
  },
  {
   "cell_type": "code",
   "execution_count": 3,
   "metadata": {
    "collapsed": false
   },
   "outputs": [],
   "source": [
    "X_train, y_train = load_mnist('.\\data', 'train')"
   ]
  },
  {
   "cell_type": "code",
   "execution_count": 4,
   "metadata": {
    "collapsed": false
   },
   "outputs": [],
   "source": [
    "X_test, y_test = load_mnist('.\\data', 't10k')"
   ]
  },
  {
   "cell_type": "code",
   "execution_count": 5,
   "metadata": {
    "collapsed": false
   },
   "outputs": [
    {
     "data": {
      "text/plain": [
       "(60000L, 784L)"
      ]
     },
     "execution_count": 5,
     "metadata": {},
     "output_type": "execute_result"
    }
   ],
   "source": [
    "X_train.shape"
   ]
  },
  {
   "cell_type": "code",
   "execution_count": 6,
   "metadata": {
    "collapsed": true
   },
   "outputs": [],
   "source": [
    "import matplotlib.pyplot as plt\n",
    "%matplotlib inline"
   ]
  },
  {
   "cell_type": "code",
   "execution_count": 7,
   "metadata": {
    "collapsed": false
   },
   "outputs": [
    {
     "data": {
      "image/png": "[encoded data removed]",
      "text/plain": [
       "<matplotlib.figure.Figure at 0xa25dba8>"
      ]
     },
     "metadata": {},
     "output_type": "display_data"
    }
   ],
   "source": [
    "fig, ax = plt.subplots(nrows=2, ncols=5,sharex=True, sharey=True)\n",
    "ax = ax.flatten()\n",
    "for i in range(10):\n",
    "    img = X_train[y_train == i][0].reshape(28, 28)\n",
    "    ax[i].imshow(img, cmap='Greys', interpolation= 'nearest')\n",
    "    ax[0].set_xticks([])\n",
    "    ax[0].set_yticks([])\n",
    "    plt.tight_layout()"
   ]
  },
  {
   "cell_type": "code",
   "execution_count": 8,
   "metadata": {
    "collapsed": true
   },
   "outputs": [],
   "source": [
    "from scipy.special import expit\n",
    "import sys"
   ]
  },
  {
   "cell_type": "code",
   "execution_count": 55,
   "metadata": {
    "collapsed": false
   },
   "outputs": [],
   "source": [
    "class MLP(object):\n",
    "    def __init__(self, n_output, n_features, n_hidden=30, L1=0.0, L2=0.0, epochs=500, eta=0.0001, alpha=0.0, \\\n",
    "                 decrease_const=0.0, shuffle=True, minibatches=1, random_state=1):\n",
    "        self.n_output = n_output\n",
    "        self.n_features = n_features\n",
    "        self.n_hidden = n_hidden\n",
    "        self.L1 = L1\n",
    "        self.L2 = L2\n",
    "        self.epochs = epochs\n",
    "        self.eta = eta\n",
    "        self.alpha = alpha\n",
    "        self.decrease_const = decrease_const\n",
    "        self.shuffle = shuffle\n",
    "        self.minibatches = minibatches\n",
    "        self.W1, self.W2 = self.__initialize_weights()\n",
    "        \n",
    "    def __initialize_weights(self):\n",
    "        W1 = np.random.uniform(low=-1, high=1, size=self.n_hidden * (self.n_features + 1))\n",
    "        W1 = W1.reshape((self.n_hidden, self.n_features + 1))\n",
    "        \n",
    "        W2 = np.random.uniform(low=-1, high=1, size=self.n_output * (self.n_hidden + 1))\n",
    "        W2 = W2.reshape((self.n_output, self.n_hidden + 1))\n",
    "        \n",
    "        return W1, W2\n",
    "    \n",
    "    def __sigmoid(self, z):\n",
    "        return 1/(1+np.exp(-z))\n",
    "    \n",
    "    def __sigmoid_gradient(self, z):\n",
    "        sg = self.__sigmoid(z)\n",
    "        return sg * (1-sg)\n",
    "    \n",
    "    def feedforward( X, W1, W2):\n",
    "        N = np.ones((X.shape[0], X.shape[1]+1),dtype=np.int8)\n",
    "        N[:,1:] = X\n",
    "        X = N\n",
    "        return X"
   ]
  },
  {
   "cell_type": "code",
   "execution_count": 30,
   "metadata": {
    "collapsed": false
   },
   "outputs": [],
   "source": [
    "u = [[ 2, 1],[ 2, 3],[5,5]]"
   ]
  },
  {
   "cell_type": "code",
   "execution_count": 31,
   "metadata": {
    "collapsed": true
   },
   "outputs": [],
   "source": [
    "v =[[1,4,2],[0,1,2],[0,4,2]]"
   ]
  },
  {
   "cell_type": "code",
   "execution_count": 12,
   "metadata": {
    "collapsed": false
   },
   "outputs": [
    {
     "data": {
      "text/plain": [
       "array([[ 2,  9,  6],\n",
       "       [ 2, 11, 10],\n",
       "       [ 5, 25, 20]])"
      ]
     },
     "execution_count": 12,
     "metadata": {},
     "output_type": "execute_result"
    }
   ],
   "source": [
    "np.array(u).dot(np.array(v))"
   ]
  },
  {
   "cell_type": "code",
   "execution_count": 35,
   "metadata": {
    "collapsed": false
   },
   "outputs": [
    {
     "data": {
      "text/plain": [
       "array([[1, 1, 4, 2],\n",
       "       [1, 0, 1, 2],\n",
       "       [1, 0, 4, 2]], dtype=int8)"
      ]
     },
     "execution_count": 35,
     "metadata": {},
     "output_type": "execute_result"
    }
   ],
   "source": [
    "v = np.array(v)\n",
    "d = np.ones((v.shape[0],v.shape[1] + 1),dtype=np.int8)[:,1:]\n",
    "d = v\n",
    "d"
   ]
  },
  {
   "cell_type": "code",
   "execution_count": 53,
   "metadata": {
    "collapsed": true
   },
   "outputs": [],
   "source": [
    "def feedforward( X, W1, W2):\n",
    "    N = np.ones((X.shape[0], X.shape[1]+1),dtype=np.int8)\n",
    "    N[:,1:] = X\n",
    "    X = N\n",
    "    return X"
   ]
  },
  {
   "cell_type": "code",
   "execution_count": 54,
   "metadata": {
    "collapsed": false
   },
   "outputs": [
    {
     "data": {
      "text/plain": [
       "array([[1, 1, 4, 2],\n",
       "       [1, 0, 1, 2],\n",
       "       [1, 0, 4, 2]], dtype=int8)"
      ]
     },
     "execution_count": 54,
     "metadata": {},
     "output_type": "execute_result"
    }
   ],
   "source": [
    "f = feedforward(v, [], [])\n",
    "f"
   ]
  },
  {
   "cell_type": "code",
   "execution_count": null,
   "metadata": {
    "collapsed": true
   },
   "outputs": [],
   "source": []
  }
 ],
 "metadata": {
  "anaconda-cloud": {},
  "kernelspec": {
   "display_name": "Python 2",
   "language": "python",
   "name": "python2"
  },
  "language_info": {
   "codemirror_mode": {
    "name": "ipython",
    "version": 2
   },
   "file_extension": ".py",
   "mimetype": "text/x-python",
   "name": "python",
   "nbconvert_exporter": "python",
   "pygments_lexer": "ipython2",
   "version": "2.7.12"
  }
 },
 "nbformat": 4,
 "nbformat_minor": 1
}
