{
 "cells": [
  {
   "cell_type": "code",
   "execution_count": 13,
   "metadata": {
    "collapsed": true
   },
   "outputs": [],
   "source": [
    "import numpy as np\n",
    "import os\n",
    "import struct"
   ]
  },
  {
   "cell_type": "code",
   "execution_count": 14,
   "metadata": {
    "collapsed": false
   },
   "outputs": [],
   "source": [
    "def load_mnist(path, kind):\n",
    "    labels_path = os.path.join(path, '%s-labels.idx1-ubyte' %kind)\n",
    "    images_path = os.path.join(path,'%s-images.idx3-ubyte' %kind)\n",
    "   \n",
    "    with open(labels_path, 'rb') as lb_path:\n",
    "        magic, n = struct.unpack('>II', lb_path.read(8))\n",
    "        labels = np.fromfile(lb_path, dtype=np.uint8)\n",
    "    \n",
    "    with open(images_path, 'rb') as images_path:\n",
    "        magic, num, rows, cols = struct.unpack(\">IIII\", images_path.read(16))\n",
    "        images = np.fromfile(images_path, dtype=np.uint8).reshape(len(labels), 784)\n",
    "    return images, labels"
   ]
  },
  {
   "cell_type": "code",
   "execution_count": 15,
   "metadata": {
    "collapsed": false
   },
   "outputs": [],
   "source": [
    "X_train, y_train = load_mnist('.\\data', 'train')"
   ]
  },
  {
   "cell_type": "code",
   "execution_count": 16,
   "metadata": {
    "collapsed": false
   },
   "outputs": [],
   "source": [
    "X_test, y_test = load_mnist('.\\data', 't10k')"
   ]
  },
  {
   "cell_type": "code",
   "execution_count": 5,
   "metadata": {
    "collapsed": false
   },
   "outputs": [
    {
     "data": {
      "text/plain": [
       "(60000, 784)"
      ]
     },
     "execution_count": 5,
     "metadata": {},
     "output_type": "execute_result"
    }
   ],
   "source": [
    "X_train.shape"
   ]
  },
  {
   "cell_type": "code",
   "execution_count": 6,
   "metadata": {
    "collapsed": true
   },
   "outputs": [],
   "source": [
    "import matplotlib.pyplot as plt\n",
    "%matplotlib inline"
   ]
  },
  {
   "cell_type": "code",
   "execution_count": 7,
   "metadata": {
    "collapsed": false
   },
   "outputs": [
    {
     "data": {
      "image/png": "[encoded data removed]",
      "text/plain": [
       "<matplotlib.figure.Figure at 0x21d1a4a7e10>"
      ]
     },
     "metadata": {},
     "output_type": "display_data"
    }
   ],
   "source": [
    "fig, ax = plt.subplots(nrows=2, ncols=5,sharex=True, sharey=True)\n",
    "ax = ax.flatten()\n",
    "for i in range(10):\n",
    "    img = X_train[y_train == i][0].reshape(28, 28)\n",
    "    ax[i].imshow(img, cmap='Greys', interpolation= 'nearest')\n",
    "    ax[0].set_xticks([])\n",
    "    ax[0].set_yticks([])\n",
    "    plt.tight_layout()"
   ]
  },
  {
   "cell_type": "code",
   "execution_count": 8,
   "metadata": {
    "collapsed": true
   },
   "outputs": [],
   "source": [
    "from scipy.special import expit\n",
    "import sys"
   ]
  },
  {
   "cell_type": "code",
   "execution_count": 21,
   "metadata": {
    "collapsed": false
   },
   "outputs": [],
   "source": [
    "class MLP(object):\n",
    "    def __init__(self, n_output, n_features, n_hidden=30, L1=0.0, L2=0.0, epochs=500, eta=0.0001, alpha=0.0, \\\n",
    "                 decrease_const=0.0, shuffle=True, minibatches=1, random_state=1):\n",
    "        self.n_output = n_output\n",
    "        self.n_features = n_features\n",
    "        self.n_hidden = n_hidden\n",
    "        self.L1 = L1\n",
    "        self.L2 = L2\n",
    "        self.epochs = epochs\n",
    "        self.eta = eta\n",
    "        self.alpha = alpha\n",
    "        self.decrease_const = decrease_const\n",
    "        self.shuffle = shuffle\n",
    "        self.minibatches = minibatches\n",
    "        self.W1, self.W2 = self.__initialize_weights()\n",
    "        \n",
    "    def __initialize_weights(self):\n",
    "        W1 = np.random.uniform(low=-1, high=1, size=self.n_hidden * (self.n_features + 1))\n",
    "        W1 = W1.reshape((self.n_hidden, self.n_features + 1))\n",
    "        \n",
    "        W2 = np.random.uniform(low=-1, high=1, size=self.n_output * (self.n_hidden + 1))\n",
    "        W2 = W2.reshape((self.n_output, self.n_hidden + 1))\n",
    "        \n",
    "        return W1, W2\n",
    "    \n",
    "    def __sigmoid(self, z):\n",
    "        return 1/(1+np.exp(-z))\n",
    "    \n",
    "    def __sigmoid_gradient(self, z):\n",
    "        sg = self.__sigmoid(z)\n",
    "        return sg * (1-sg)\n",
    "    \n",
    "    def __feedforward(self, X, W1, W2):\n",
    "        N = np.ones((X.shape[0], X.shape[1]+1),dtype=np.int8)\n",
    "        N[:,1:] = X\n",
    "        A1 = N #(n,k')\n",
    "        \n",
    "        Z2 = W1.dot(A1.T)\n",
    "        A2 = self.__sigmoid(Z2)#(h,n)\n",
    "        \n",
    "        N = np.ones((A2.shape[0]+1, A2.shape[1]),dtype=np.int8)\n",
    "        N[:-1,:]=A2\n",
    "        A2 = N #(h',n)\n",
    "        \n",
    "        Z3 = W2.dot(A2)\n",
    "        A3 = self.__sigmoid(Z3)#(o,n)\n",
    "        \n",
    "        return Z2, Z3, A1, A2, A3\n",
    "    \n",
    "    \n",
    "    def __l1(self, l1, W1, W2):\n",
    "        return l1 * (np.sum(np.abs(W1[:,1:])) + np.sum(np.abs(W2[:,1:])))\n",
    "    \n",
    "    def __l2(self, l2, W1, W2):\n",
    "        return l2 * (np.sum(np.power(W1[:,1:],2)) + np.sum(np.power(W2[:,1:],2)))\n",
    "    \n",
    "    def __getcost(self, encoding, output, W1, W2):\n",
    "        cost = -encoding.dot(np.log(output)) - (1-encoding).dot(np.log(output))\n",
    "        l1 = self.__l1(self.l1, W1, W2)\n",
    "        l2 = self.__l2(self.l2, W1, W2)\n",
    "        return cost + l1 + l2\n",
    "    \n",
    "    def __back_propagate(self, encoding, A3, A2, A1, Z2, Z3, W1, W2):\n",
    "        #W1(h,k') and W2(o,h')\n",
    "        #A1(n,k')\n",
    "        #Z2(h,n) and A2(h',n)\n",
    "        #Z3(o,n) and A3(o,n) and encoding(o,n)\n",
    "        \n",
    "        N = np.ones((Z3.shape[0] + 1, Z3.shape[0]), dtype=np.int8)\n",
    "        N[:-1,:] = Z3\n",
    "        Z3 = N\n",
    "        \n",
    "        delta3 = (A3 - encoding) * self.__sigmoid_gradient(Z3) #(o,n)\n",
    "        grad3 = delta3.dot(A2.T) #(o,h')\n",
    "        \n",
    "        N = np.ones((Z2.shape[0] + 1, Z2.shape[0]), dtype=np.int8)\n",
    "        N[:-1,:] = Z2\n",
    "        Z2 = N #(h',n)\n",
    "        \n",
    "        delta2 = W2.T.dot(delta3) * self.__sigmoid_gradient(Z2) #(h',n)\n",
    "        grad2 = delta2.dot(A1) #(h',k')  \n",
    "        \n",
    "        grad2[:, 1:] += W1[:, 1:] *(self.l1 + self.l2)\n",
    "        grad3[:, 1:] += W2[:, 1:] *(self.l1 + self.l2)\n",
    "        \n",
    "        return grad2, grad3\n",
    "    \n",
    "    def __predict(self, X):\n",
    "        A1, Z2, A2, Z3, A3 = self.__feedforward(X, self.W1, self.W2)\n",
    "        y_pred = np.argmax(Z3, axis=0)\n",
    "        return y_pred\n",
    "    \n",
    "    def __encode(self, y):\n",
    "        y_encoded = np.zeros((self.n_output, y.shape[0]))\n",
    "        for i,v in enumerate(y):\n",
    "            y_encoded[v, i] = 1\n",
    "        return y_encoded #(o,n)"
   ]
  },
  {
   "cell_type": "markdown",
   "metadata": {},
   "source": [
    "## Why we take Z3 instead of A3 in predict method ?"
   ]
  },
  {
   "cell_type": "code",
   "execution_count": 3,
   "metadata": {
    "collapsed": true
   },
   "outputs": [],
   "source": [
    "import matplotlib.pyplot as plt\n",
    "%matplotlib inline"
   ]
  },
  {
   "cell_type": "code",
   "execution_count": 6,
   "metadata": {
    "collapsed": false
   },
   "outputs": [
    {
     "data": {
      "text/plain": [
       "[<matplotlib.lines.Line2D at 0x6dda080>]"
      ]
     },
     "execution_count": 6,
     "metadata": {},
     "output_type": "execute_result"
    },
    {
     "data": {
      "image/png": "[encoded data removed]",
      "text/plain": [
       "<matplotlib.figure.Figure at 0x3d15908>"
      ]
     },
     "metadata": {},
     "output_type": "display_data"
    }
   ],
   "source": [
    "x = np.arange(0,100)\n",
    "y = 1 / (1+ np.exp(-x))\n",
    "plt.plot(x,y)"
   ]
  },
  {
   "cell_type": "code",
   "execution_count": 8,
   "metadata": {
    "collapsed": false
   },
   "outputs": [
    {
     "data": {
      "text/plain": [
       "array([ 0.5       ,  0.73105858,  0.88079708,  0.95257413,  0.98201379,\n",
       "        0.99330715,  0.99752738,  0.99908895,  0.99966465,  0.99987661,\n",
       "        0.9999546 ,  0.9999833 ,  0.99999386,  0.99999774,  0.99999917,\n",
       "        0.99999969,  0.99999989,  0.99999996,  0.99999998,  0.99999999,\n",
       "        1.        ,  1.        ,  1.        ,  1.        ,  1.        ,\n",
       "        1.        ,  1.        ,  1.        ,  1.        ,  1.        ,\n",
       "        1.        ,  1.        ,  1.        ,  1.        ,  1.        ,\n",
       "        1.        ,  1.        ,  1.        ,  1.        ,  1.        ,\n",
       "        1.        ,  1.        ,  1.        ,  1.        ,  1.        ,\n",
       "        1.        ,  1.        ,  1.        ,  1.        ,  1.        ,\n",
       "        1.        ,  1.        ,  1.        ,  1.        ,  1.        ,\n",
       "        1.        ,  1.        ,  1.        ,  1.        ,  1.        ,\n",
       "        1.        ,  1.        ,  1.        ,  1.        ,  1.        ,\n",
       "        1.        ,  1.        ,  1.        ,  1.        ,  1.        ,\n",
       "        1.        ,  1.        ,  1.        ,  1.        ,  1.        ,\n",
       "        1.        ,  1.        ,  1.        ,  1.        ,  1.        ,\n",
       "        1.        ,  1.        ,  1.        ,  1.        ,  1.        ,\n",
       "        1.        ,  1.        ,  1.        ,  1.        ,  1.        ,\n",
       "        1.        ,  1.        ,  1.        ,  1.        ,  1.        ,\n",
       "        1.        ,  1.        ,  1.        ,  1.        ,  1.        ])"
      ]
     },
     "execution_count": 8,
     "metadata": {},
     "output_type": "execute_result"
    }
   ],
   "source": [
    "y"
   ]
  },
  {
   "cell_type": "code",
   "execution_count": 19,
   "metadata": {
    "collapsed": false
   },
   "outputs": [
    {
     "data": {
      "text/plain": [
       "60000L"
      ]
     },
     "execution_count": 19,
     "metadata": {},
     "output_type": "execute_result"
    }
   ],
   "source": [
    "y_train.shape[0]"
   ]
  },
  {
   "cell_type": "code",
   "execution_count": 20,
   "metadata": {
    "collapsed": false
   },
   "outputs": [
    {
     "data": {
      "text/plain": [
       "60000L"
      ]
     },
     "execution_count": 20,
     "metadata": {},
     "output_type": "execute_result"
    }
   ],
   "source": [
    "X_train.shape[0]"
   ]
  },
  {
   "cell_type": "code",
   "execution_count": null,
   "metadata": {
    "collapsed": true
   },
   "outputs": [],
   "source": []
  }
 ],
 "metadata": {
  "anaconda-cloud": {},
  "kernelspec": {
   "display_name": "Python 2",
   "language": "python",
   "name": "python2"
  },
  "language_info": {
   "codemirror_mode": {
    "name": "ipython",
    "version": 2
   },
   "file_extension": ".py",
   "mimetype": "text/x-python",
   "name": "python",
   "nbconvert_exporter": "python",
   "pygments_lexer": "ipython2",
   "version": "2.7.12"
  }
 },
 "nbformat": 4,
 "nbformat_minor": 1
}
